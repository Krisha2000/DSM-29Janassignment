{
 "cells": [
  {
   "cell_type": "markdown",
   "id": "9d687e04-6af9-4ce6-b32f-eced7df36efc",
   "metadata": {},
   "source": [
    "# Quetion:1"
   ]
  },
  {
   "cell_type": "markdown",
   "id": "1a1c795d-a211-4223-85bf-7bacaea43d5b",
   "metadata": {},
   "source": [
    "Python was devloped by Guido van Rossum"
   ]
  },
  {
   "cell_type": "markdown",
   "id": "85f4b289-19b9-480c-aace-b422526e809c",
   "metadata": {},
   "source": [
    "# Quetion:2"
   ]
  },
  {
   "cell_type": "markdown",
   "id": "66c978d5-7d61-44dd-83a1-fcc7d829083a",
   "metadata": {},
   "source": [
    "Object-oriented programming and structured programming are supported by python."
   ]
  },
  {
   "cell_type": "markdown",
   "id": "8c41b097-2168-49d3-acb4-dcdc4d2ffe12",
   "metadata": {},
   "source": [
    "# Quetion:3 "
   ]
  },
  {
   "cell_type": "markdown",
   "id": "4087a952-1d67-4742-8248-d58358eb1c37",
   "metadata": {},
   "source": [
    "Yes, Python is a case-sensitive language"
   ]
  },
  {
   "cell_type": "markdown",
   "id": "3888389a-17e8-4f85-8602-7ce0afa9dfcd",
   "metadata": {},
   "source": [
    "# Quetion:4"
   ]
  },
  {
   "cell_type": "markdown",
   "id": "e3a01b8b-3c99-401f-97f9-e7616fd24e37",
   "metadata": {},
   "source": [
    "The extensions for Python files are - \". py\"."
   ]
  },
  {
   "cell_type": "markdown",
   "id": "90eb2d3d-f87d-4718-8635-1fe0acd87d11",
   "metadata": {},
   "source": [
    "# Quetion:5"
   ]
  },
  {
   "cell_type": "markdown",
   "id": "ee3efa1c-5c10-4f1f-9aa6-c60b11a931f3",
   "metadata": {},
   "source": [
    "Yes,Python is an interpreted language."
   ]
  },
  {
   "cell_type": "markdown",
   "id": "e5cb3ad3-d35b-4922-9a89-6aae397d0ed4",
   "metadata": {},
   "source": [
    "# Quetion:6"
   ]
  },
  {
   "cell_type": "markdown",
   "id": "66377ccf-74c8-45b4-bda7-71bea7e0e0b4",
   "metadata": {},
   "source": [
    "a module, a function body, and a class definition"
   ]
  },
  {
   "cell_type": "markdown",
   "id": "1dbfcbe2-3647-4b3d-96ec-ba3f1f67d060",
   "metadata": {},
   "source": [
    "# Quetion:7"
   ]
  },
  {
   "cell_type": "markdown",
   "id": "91d4d626-3d77-476f-b945-af4575dfb405",
   "metadata": {},
   "source": [
    "We can write a single-line comment by adding a single # character before any statement or line of code."
   ]
  },
  {
   "cell_type": "markdown",
   "id": "2fc57401-e757-48a1-b1ee-f22e0fc1e281",
   "metadata": {},
   "source": [
    "# Quetion:8"
   ]
  },
  {
   "cell_type": "markdown",
   "id": "e554dd26-2e90-4e82-a874-3c9ac083cebb",
   "metadata": {},
   "source": [
    "The function sys. version can help us to find the version of python that we are currently working on."
   ]
  },
  {
   "cell_type": "markdown",
   "id": "7927a867-5c20-46eb-a148-959c1bd6c3c7",
   "metadata": {},
   "source": [
    "# Quetion:9"
   ]
  },
  {
   "cell_type": "markdown",
   "id": "1df54908-da1f-4c9c-940b-bf9238ba36af",
   "metadata": {},
   "source": [
    "Python supports to make anonymous functions which are not bound to a name. It uses a construct called \"lambda\" ."
   ]
  },
  {
   "cell_type": "markdown",
   "id": "dfdc0660-ae72-409e-bed6-f37296d6ed4a",
   "metadata": {},
   "source": [
    "# Quetion:10"
   ]
  },
  {
   "cell_type": "markdown",
   "id": "45e4b09f-7edc-42c9-bece-3c5580b2d35d",
   "metadata": {},
   "source": [
    "pip stands for \"preferred installer program\"."
   ]
  },
  {
   "cell_type": "markdown",
   "id": "957e6401-dfc9-4e40-ae08-7ed8fc672bfd",
   "metadata": {},
   "source": [
    "# Quetion:11"
   ]
  },
  {
   "cell_type": "markdown",
   "id": "e7f9f7bf-2e11-4662-8646-0bac177044f0",
   "metadata": {},
   "source": [
    "print( ) function.  \n",
    "type( ) function.   \n",
    "input( ) function.    \n",
    "abs( ) function.    \n",
    "pow( ) function.    \n",
    "dir( ) function.    \n",
    "sorted( ) function.    \n",
    "max( ) function.    "
   ]
  },
  {
   "cell_type": "markdown",
   "id": "f056aa45-ba01-4f6d-b8bf-d65b8848c5c4",
   "metadata": {},
   "source": [
    "# Quetion:12"
   ]
  },
  {
   "cell_type": "markdown",
   "id": "7695154e-b108-4fd7-bc87-f0ee7b6b2323",
   "metadata": {},
   "source": [
    "An identifier can have a maximum length of 79 characters in Python."
   ]
  },
  {
   "cell_type": "markdown",
   "id": "83ab4ebe-72c4-4f3b-b744-34f91e34ee82",
   "metadata": {},
   "source": [
    "# Quetion:13"
   ]
  },
  {
   "cell_type": "markdown",
   "id": "955257a2-1b8e-4f31-bcd1-2f76927c0cff",
   "metadata": {},
   "source": [
    "-->Presence of third-party modules.    \n",
    "\n",
    "-->Extensive support libraries(NumPy for numerical calculations, Pandas for data analytics, etc.)  \n",
    "\n",
    "-->Open source and large active community base     \n",
    "\n",
    "->Versatile, Easy to read, learn and write     \n",
    "\n",
    "-->User-friendly data structures      \n",
    "\n",
    "-->High-level language       \n",
    "\n",
    "-->Dynamically typed language(No need to mention data type based on the value assigned, it takes data type)|\n",
    "\n",
    "-->Object-Oriented and Procedural  Programming language \n",
    "\n",
    "-->Portable and Interactive  \n",
    "\n",
    "--?Ideal for prototypes – provide more functionality with less coding  \n",
    "\n",
    "-->Highly Efficient(Python’s clean object-oriented design provides enhanced process control, and the language is equipped with excellent text processing and integration capabilities, as well as its own unit testing framework, which makes it more efficient.)   \n",
    "\n",
    "-->Internet of Things(IoT) Opportunities  \n",
    "\n",
    "-->Interpreted Language  \n",
    "\n",
    "-->Portable across Operating systems  \n",
    "\n"
   ]
  },
  {
   "cell_type": "markdown",
   "id": "46121f33-2b9d-4476-96ed-f84882517031",
   "metadata": {},
   "source": [
    "# Quetion:14"
   ]
  },
  {
   "cell_type": "markdown",
   "id": "5a5cfa94-4152-4c56-9780-f9ea00ee04aa",
   "metadata": {},
   "source": [
    "Memory management in Python involves a private heap containing all Python objects and data structures. The management of this private heap is ensured internally by the Python memory manager."
   ]
  },
  {
   "cell_type": "markdown",
   "id": "4b16eaf6-4d34-437b-a55a-8d6f6036be64",
   "metadata": {},
   "source": [
    "# Quetion:15"
   ]
  },
  {
   "cell_type": "markdown",
   "id": "cb966afb-27af-434e-a5d9-e793676e1d49",
   "metadata": {},
   "source": [
    "Right-clicking This PC and going to Properties.\n",
    "\n",
    "Clicking on the Advanced system settings in the menu on the left.\n",
    "\n",
    "Clicking on the Environment Variables button o​n the bottom right.\n",
    "\n",
    "In the System variables section, selecting the Path variable and clicking on Edit. The next screen will show all the directories that are currently a part of the PATH variable.\n",
    "\n",
    "Clicking on New and entering Python’s install directory."
   ]
  },
  {
   "cell_type": "markdown",
   "id": "75744993-edce-4898-b243-a978a10dd1bc",
   "metadata": {},
   "source": [
    "# Quetion:16"
   ]
  },
  {
   "cell_type": "markdown",
   "id": "47587ab6-2736-4df2-aecf-0e78f87c3db6",
   "metadata": {},
   "source": [
    "Yes,the indentation in Python is very important. Python uses indentation to indicate a block of code."
   ]
  },
  {
   "cell_type": "code",
   "execution_count": null,
   "id": "5396da04-df9f-48b5-8f3a-5861707e799b",
   "metadata": {},
   "outputs": [],
   "source": []
  }
 ],
 "metadata": {
  "kernelspec": {
   "display_name": "Python 3 (ipykernel)",
   "language": "python",
   "name": "python3"
  },
  "language_info": {
   "codemirror_mode": {
    "name": "ipython",
    "version": 3
   },
   "file_extension": ".py",
   "mimetype": "text/x-python",
   "name": "python",
   "nbconvert_exporter": "python",
   "pygments_lexer": "ipython3",
   "version": "3.10.8"
  }
 },
 "nbformat": 4,
 "nbformat_minor": 5
}
